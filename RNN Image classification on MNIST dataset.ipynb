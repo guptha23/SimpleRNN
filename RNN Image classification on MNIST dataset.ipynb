{
 "cells": [
  {
   "cell_type": "code",
   "execution_count": 1,
   "metadata": {},
   "outputs": [
    {
     "data": {
      "text/plain": [
       "'2.2.0-rc4'"
      ]
     },
     "execution_count": 1,
     "metadata": {},
     "output_type": "execute_result"
    }
   ],
   "source": [
    "import tensorflow as tf\n",
    "\n",
    "tf.__version__"
   ]
  },
  {
   "cell_type": "code",
   "execution_count": 2,
   "metadata": {},
   "outputs": [],
   "source": [
    "from sklearn.metrics import confusion_matrix, accuracy_score, precision_score, classification_report\n",
    "def metrics(y_test, y_pred):\n",
    "    y_pred = y_pred.argmax(axis=1)\n",
    "    print(y_pred)\n",
    "    print(\"Accuracy Score : \", accuracy_score(y_test, y_pred))\n",
    "    print(\"Precision Score : \", precision_score(y_test, y_pred, average=\"weighted\"))\n",
    "    print(\"Classification Report : \\n\", classification_report(y_test, y_pred))\n",
    "    print(\"Confusion Matrix : \\n\", confusion_matrix(y_test, y_pred))"
   ]
  },
  {
   "cell_type": "code",
   "execution_count": 3,
   "metadata": {},
   "outputs": [],
   "source": [
    "import pandas as pd\n",
    "import numpy as np"
   ]
  },
  {
   "cell_type": "markdown",
   "metadata": {},
   "source": [
    "<hr>\n",
    "\n",
    "## Load the data\n",
    "\n",
    "<hr>"
   ]
  },
  {
   "cell_type": "code",
   "execution_count": 4,
   "metadata": {},
   "outputs": [
    {
     "name": "stdout",
     "output_type": "stream",
     "text": [
      "X train shape : (60000, 28, 28)\n",
      "y train shape : (60000,)\n",
      "X test shape : (10000, 28, 28)\n",
      "y test shape : (10000,)\n"
     ]
    }
   ],
   "source": [
    "mnist = tf.keras.datasets.mnist\n",
    "\n",
    "(X_train, y_train), (X_test, y_test) = mnist.load_data()\n",
    "\n",
    "# Always a good idea to look at shape before getting started.\n",
    "print(f\"X train shape : {X_train.shape}\")\n",
    "print(f\"y train shape : {y_train.shape}\")\n",
    "print(f\"X test shape : {X_test.shape}\")\n",
    "print(f\"y test shape : {y_test.shape}\")"
   ]
  },
  {
   "cell_type": "markdown",
   "metadata": {},
   "source": [
    "##### Now, if we see training set contains 60000 samples. \n",
    "##### Testing set has 10000. \n",
    "##### As shape of each image is 28 * 28 pixels (picture element) --> can be interpreted as grayscale as no color layer is specified.\n",
    "\n",
    "##### In grayscale 255 --> white , 0 --> black and any other value --> shade of grey."
   ]
  },
  {
   "cell_type": "code",
   "execution_count": 5,
   "metadata": {},
   "outputs": [
    {
     "name": "stdout",
     "output_type": "stream",
     "text": [
      "<class 'numpy.ndarray'>\n"
     ]
    }
   ],
   "source": [
    "# All of the above are numpy arrays --> run much faster than python lists.\n",
    "# numpy is implemented in C.\n",
    "\n",
    "# tensorflow is named after \"tensor\" which is a generalised numpy array.\n",
    "\n",
    "print(type(X_train))"
   ]
  },
  {
   "cell_type": "code",
   "execution_count": 6,
   "metadata": {},
   "outputs": [],
   "source": [
    "# Normalising values as gradient descent works better on small scale data.\n",
    "\n",
    "X_train , X_test = X_train/255, X_test/255"
   ]
  },
  {
   "cell_type": "markdown",
   "metadata": {},
   "source": [
    "<hr>\n",
    "\n",
    "## Instantiate the model\n",
    "\n",
    "<hr>"
   ]
  },
  {
   "cell_type": "code",
   "execution_count": 7,
   "metadata": {},
   "outputs": [
    {
     "data": {
      "text/plain": [
       "(28, 28)"
      ]
     },
     "execution_count": 7,
     "metadata": {},
     "output_type": "execute_result"
    }
   ],
   "source": [
    "X_train[0].shape"
   ]
  },
  {
   "cell_type": "code",
   "execution_count": 8,
   "metadata": {},
   "outputs": [
    {
     "data": {
      "text/plain": [
       "10"
      ]
     },
     "execution_count": 8,
     "metadata": {},
     "output_type": "execute_result"
    }
   ],
   "source": [
    "len(set(y_train))"
   ]
  },
  {
   "cell_type": "code",
   "execution_count": 9,
   "metadata": {},
   "outputs": [],
   "source": [
    "from tensorflow.keras.layers import Input, SimpleRNN, Dense\n",
    "from tensorflow.keras.models import Model\n",
    "\n",
    "input_shape = X_train[0].shape\n",
    "hidden_units = 128\n",
    "K = len(set(y_train))\n",
    "\n",
    "\n",
    "i = Input(shape=input_shape)\n",
    "x = SimpleRNN(hidden_units)(i)\n",
    "x = Dense(K, activation=\"softmax\")(x)\n",
    "\n",
    "rnn_model = Model(i,x)"
   ]
  },
  {
   "cell_type": "code",
   "execution_count": 10,
   "metadata": {},
   "outputs": [],
   "source": [
    "from tensorflow.keras.layers import Input, GRU, Dense\n",
    "from tensorflow.keras.models import Model\n",
    "\n",
    "input_shape = X_train[0].shape\n",
    "hidden_units = 128\n",
    "K = len(set(y_train))\n",
    "\n",
    "\n",
    "i = Input(shape=input_shape)\n",
    "x = GRU(hidden_units)(i)\n",
    "x = Dense(K, activation=\"softmax\")(x)\n",
    "\n",
    "gru_model = Model(i,x)"
   ]
  },
  {
   "cell_type": "code",
   "execution_count": 11,
   "metadata": {},
   "outputs": [],
   "source": [
    "from tensorflow.keras.layers import Input, LSTM, Dense\n",
    "from tensorflow.keras.models import Model\n",
    "\n",
    "input_shape = X_train[0].shape\n",
    "hidden_units = 128\n",
    "K = len(set(y_train))\n",
    "\n",
    "\n",
    "i = Input(shape=input_shape)\n",
    "x = LSTM(hidden_units)(i)\n",
    "x = Dense(K, activation=\"softmax\")(x)\n",
    "\n",
    "lstm_model = Model(i,x)"
   ]
  },
  {
   "cell_type": "code",
   "execution_count": 12,
   "metadata": {},
   "outputs": [],
   "source": [
    "import matplotlib.pyplot as plt\n",
    "def compile_model(model):\n",
    "    model.compile(optimizer=\"adam\", loss=\"sparse_categorical_crossentropy\", metrics=[\"accuracy\"])\n",
    "    \n",
    "    r = model.fit(X_train, y_train, validation_data=(X_test, y_test), epochs=10)\n",
    "    \n",
    "    plt.subplot(211)\n",
    "    plt.plot(r.history[\"loss\"], label=\"Loss\")\n",
    "    plt.plot(r.history[\"val_loss\"], label=\"Val. Loss\")\n",
    "    plt.xlabel('No. of epochs')\n",
    "    plt.ylabel(\"Loss\")\n",
    "    plt.legend()\n",
    "    \n",
    "    plt.subplot(212)\n",
    "    plt.plot(r.history[\"accuracy\"], label=\"Accuracy\")\n",
    "    plt.plot(r.history[\"val_accuracy\"], label=\"Val. Accuracy\")\n",
    "    plt.xlabel('No. of epochs')\n",
    "    plt.ylabel(\"Accuracy\")\n",
    "    plt.legend()\n",
    "    \n",
    "    y_pred = model.predict(X_test)\n",
    "    metrics(y_test, y_pred)\n",
    "    "
   ]
  },
  {
   "cell_type": "code",
   "execution_count": 13,
   "metadata": {},
   "outputs": [
    {
     "name": "stdout",
     "output_type": "stream",
     "text": [
      "Epoch 1/10\n",
      "1875/1875 [==============================] - 8s 4ms/step - loss: 0.3850 - accuracy: 0.8852 - val_loss: 0.2243 - val_accuracy: 0.9341\n",
      "Epoch 2/10\n",
      "1875/1875 [==============================] - 8s 4ms/step - loss: 0.2029 - accuracy: 0.9421 - val_loss: 0.1594 - val_accuracy: 0.9522\n",
      "Epoch 3/10\n",
      "1875/1875 [==============================] - 8s 4ms/step - loss: 0.1662 - accuracy: 0.9517 - val_loss: 0.1630 - val_accuracy: 0.9525\n",
      "Epoch 4/10\n",
      "1875/1875 [==============================] - 8s 4ms/step - loss: 0.1596 - accuracy: 0.9552 - val_loss: 0.1354 - val_accuracy: 0.9600\n",
      "Epoch 5/10\n",
      "1875/1875 [==============================] - 8s 4ms/step - loss: 0.1578 - accuracy: 0.9545 - val_loss: 0.1606 - val_accuracy: 0.9569\n",
      "Epoch 6/10\n",
      "1875/1875 [==============================] - 8s 5ms/step - loss: 0.1348 - accuracy: 0.9616 - val_loss: 0.1305 - val_accuracy: 0.9643\n",
      "Epoch 7/10\n",
      "1875/1875 [==============================] - 9s 5ms/step - loss: 0.1502 - accuracy: 0.9577 - val_loss: 0.1601 - val_accuracy: 0.9566\n",
      "Epoch 8/10\n",
      "1875/1875 [==============================] - 9s 5ms/step - loss: 0.1357 - accuracy: 0.9621 - val_loss: 0.1375 - val_accuracy: 0.9611\n",
      "Epoch 9/10\n",
      "1875/1875 [==============================] - 8s 4ms/step - loss: 0.1509 - accuracy: 0.9574 - val_loss: 0.1444 - val_accuracy: 0.9596\n",
      "Epoch 10/10\n",
      "1875/1875 [==============================] - 9s 5ms/step - loss: 0.1510 - accuracy: 0.9567 - val_loss: 0.1775 - val_accuracy: 0.9495\n",
      "[7 2 1 ... 4 5 6]\n",
      "Accuracy Score :  0.9495\n",
      "Precision Score :  0.9500342084785992\n",
      "Classification Report : \n",
      "               precision    recall  f1-score   support\n",
      "\n",
      "           0       0.93      0.99      0.96       980\n",
      "           1       0.96      0.99      0.97      1135\n",
      "           2       0.94      0.96      0.95      1032\n",
      "           3       0.96      0.94      0.95      1010\n",
      "           4       0.92      0.96      0.94       982\n",
      "           5       0.97      0.91      0.94       892\n",
      "           6       0.98      0.94      0.96       958\n",
      "           7       0.93      0.96      0.95      1028\n",
      "           8       0.96      0.93      0.94       974\n",
      "           9       0.95      0.91      0.93      1009\n",
      "\n",
      "    accuracy                           0.95     10000\n",
      "   macro avg       0.95      0.95      0.95     10000\n",
      "weighted avg       0.95      0.95      0.95     10000\n",
      "\n",
      "Confusion Matrix : \n",
      " [[ 966    0    0    2    3    1    4    1    2    1]\n",
      " [   0 1118    5    2    1    2    1    2    3    1]\n",
      " [   5    7  991    4    7    1    1   12    3    1]\n",
      " [   2    5   13  951    1   17    2   10    3    6]\n",
      " [   3    0    1    1  945    0    6    7    2   17]\n",
      " [  19    3    1   14    4  810    6    3   12   20]\n",
      " [  35    4    2    2   11    1  899    0    4    0]\n",
      " [   0   13   12    1    5    0    1  992    1    3]\n",
      " [   9   13   26    5    6    1    2    7  901    4]\n",
      " [   1    6    1    6   39    3    0   27    4  922]]\n"
     ]
    },
    {
     "data": {
      "image/png": "[encoded data removed]",
      "text/plain": [
       "<Figure size 432x288 with 2 Axes>"
      ]
     },
     "metadata": {
      "needs_background": "light"
     },
     "output_type": "display_data"
    }
   ],
   "source": [
    "compile_model(rnn_model)"
   ]
  },
  {
   "cell_type": "code",
   "execution_count": 14,
   "metadata": {},
   "outputs": [
    {
     "name": "stdout",
     "output_type": "stream",
     "text": [
      "Epoch 1/10\n",
      "1875/1875 [==============================] - 19s 10ms/step - loss: 0.3371 - accuracy: 0.8905 - val_loss: 0.1283 - val_accuracy: 0.9596\n",
      "Epoch 2/10\n",
      "1875/1875 [==============================] - 17s 9ms/step - loss: 0.0924 - accuracy: 0.9716 - val_loss: 0.0882 - val_accuracy: 0.9726\n",
      "Epoch 3/10\n",
      "1875/1875 [==============================] - 18s 9ms/step - loss: 0.0615 - accuracy: 0.9811 - val_loss: 0.0670 - val_accuracy: 0.9808\n",
      "Epoch 4/10\n",
      "1875/1875 [==============================] - 17s 9ms/step - loss: 0.0485 - accuracy: 0.9851 - val_loss: 0.0522 - val_accuracy: 0.9839\n",
      "Epoch 5/10\n",
      "1875/1875 [==============================] - 17s 9ms/step - loss: 0.0388 - accuracy: 0.9877 - val_loss: 0.0477 - val_accuracy: 0.9858\n",
      "Epoch 6/10\n",
      "1875/1875 [==============================] - 17s 9ms/step - loss: 0.0332 - accuracy: 0.9895 - val_loss: 0.0503 - val_accuracy: 0.9852\n",
      "Epoch 7/10\n",
      "1875/1875 [==============================] - 18s 9ms/step - loss: 0.0277 - accuracy: 0.9910 - val_loss: 0.0453 - val_accuracy: 0.9856\n",
      "Epoch 8/10\n",
      "1875/1875 [==============================] - 18s 9ms/step - loss: 0.0230 - accuracy: 0.9924 - val_loss: 0.0434 - val_accuracy: 0.9871\n",
      "Epoch 9/10\n",
      "1875/1875 [==============================] - 18s 9ms/step - loss: 0.0215 - accuracy: 0.9930 - val_loss: 0.0500 - val_accuracy: 0.9857\n",
      "Epoch 10/10\n",
      "1875/1875 [==============================] - 18s 9ms/step - loss: 0.0176 - accuracy: 0.9942 - val_loss: 0.0553 - val_accuracy: 0.9862\n",
      "[7 2 1 ... 4 5 6]\n",
      "Accuracy Score :  0.9862\n",
      "Precision Score :  0.986269725954133\n",
      "Classification Report : \n",
      "               precision    recall  f1-score   support\n",
      "\n",
      "           0       0.99      0.99      0.99       980\n",
      "           1       0.98      1.00      0.99      1135\n",
      "           2       0.97      0.99      0.98      1032\n",
      "           3       0.98      0.99      0.98      1010\n",
      "           4       0.99      0.99      0.99       982\n",
      "           5       0.99      0.98      0.99       892\n",
      "           6       0.99      0.99      0.99       958\n",
      "           7       0.99      0.97      0.98      1028\n",
      "           8       0.99      0.98      0.99       974\n",
      "           9       0.99      0.98      0.98      1009\n",
      "\n",
      "    accuracy                           0.99     10000\n",
      "   macro avg       0.99      0.99      0.99     10000\n",
      "weighted avg       0.99      0.99      0.99     10000\n",
      "\n",
      "Confusion Matrix : \n",
      " [[ 975    0    1    0    0    0    3    1    0    0]\n",
      " [   0 1131    1    1    0    0    2    0    0    0]\n",
      " [   1    2 1026    1    0    0    0    0    2    0]\n",
      " [   0    0    4 1000    1    4    0    0    0    1]\n",
      " [   0    1    0    0  972    0    5    1    1    2]\n",
      " [   2    1    1    7    0  876    4    0    0    1]\n",
      " [   2    2    2    1    2    1  948    0    0    0]\n",
      " [   0   11   14    3    1    1    0  995    1    2]\n",
      " [   4    1    2    8    1    2    0    0  954    2]\n",
      " [   2    1    2    2    5    2    0    7    3  985]]\n"
     ]
    },
    {
     "data": {
      "image/png": "[encoded data removed]",
      "text/plain": [
       "<Figure size 432x288 with 2 Axes>"
      ]
     },
     "metadata": {
      "needs_background": "light"
     },
     "output_type": "display_data"
    }
   ],
   "source": [
    "compile_model(gru_model)"
   ]
  },
  {
   "cell_type": "code",
   "execution_count": 15,
   "metadata": {},
   "outputs": [
    {
     "name": "stdout",
     "output_type": "stream",
     "text": [
      "Epoch 1/10\n",
      "1875/1875 [==============================] - 22s 11ms/step - loss: 0.3238 - accuracy: 0.8968 - val_loss: 0.1315 - val_accuracy: 0.9582\n",
      "Epoch 2/10\n",
      "1875/1875 [==============================] - 22s 11ms/step - loss: 0.1036 - accuracy: 0.9687 - val_loss: 0.0811 - val_accuracy: 0.9761\n",
      "Epoch 3/10\n",
      "1875/1875 [==============================] - 21s 11ms/step - loss: 0.0717 - accuracy: 0.9781 - val_loss: 0.0610 - val_accuracy: 0.9816\n",
      "Epoch 4/10\n",
      "1875/1875 [==============================] - 21s 11ms/step - loss: 0.0558 - accuracy: 0.9837 - val_loss: 0.0574 - val_accuracy: 0.9815\n",
      "Epoch 5/10\n",
      "1875/1875 [==============================] - 21s 11ms/step - loss: 0.0465 - accuracy: 0.9859 - val_loss: 0.0535 - val_accuracy: 0.9821\n",
      "Epoch 6/10\n",
      "1875/1875 [==============================] - 22s 11ms/step - loss: 0.0394 - accuracy: 0.9880 - val_loss: 0.0617 - val_accuracy: 0.9801\n",
      "Epoch 7/10\n",
      "1875/1875 [==============================] - 22s 12ms/step - loss: 0.0325 - accuracy: 0.9897 - val_loss: 0.0401 - val_accuracy: 0.9879\n",
      "Epoch 8/10\n",
      "1875/1875 [==============================] - 22s 12ms/step - loss: 0.0286 - accuracy: 0.9912 - val_loss: 0.0413 - val_accuracy: 0.9872\n",
      "Epoch 9/10\n",
      "1875/1875 [==============================] - 22s 12ms/step - loss: 0.0238 - accuracy: 0.9924 - val_loss: 0.0480 - val_accuracy: 0.9870\n",
      "Epoch 10/10\n",
      "1875/1875 [==============================] - 23s 12ms/step - loss: 0.0210 - accuracy: 0.9937 - val_loss: 0.0444 - val_accuracy: 0.9857\n",
      "[7 2 1 ... 4 5 6]\n",
      "Accuracy Score :  0.9857\n",
      "Precision Score :  0.985747826679428\n",
      "Classification Report : \n",
      "               precision    recall  f1-score   support\n",
      "\n",
      "           0       1.00      0.99      1.00       980\n",
      "           1       0.98      1.00      0.99      1135\n",
      "           2       0.99      0.99      0.99      1032\n",
      "           3       0.99      0.99      0.99      1010\n",
      "           4       0.99      0.98      0.98       982\n",
      "           5       0.99      0.99      0.99       892\n",
      "           6       0.98      0.98      0.98       958\n",
      "           7       0.98      0.98      0.98      1028\n",
      "           8       0.98      0.98      0.98       974\n",
      "           9       0.99      0.97      0.98      1009\n",
      "\n",
      "    accuracy                           0.99     10000\n",
      "   macro avg       0.99      0.99      0.99     10000\n",
      "weighted avg       0.99      0.99      0.99     10000\n",
      "\n",
      "Confusion Matrix : \n",
      " [[ 975    0    0    0    1    0    2    1    1    0]\n",
      " [   0 1133    0    0    0    0    1    0    1    0]\n",
      " [   0    4 1017    4    0    0    1    4    2    0]\n",
      " [   0    1    2 1002    0    1    0    2    2    0]\n",
      " [   0    2    0    0  965    0    4    4    1    6]\n",
      " [   0    1    0    4    0  883    3    0    1    0]\n",
      " [   2    2    0    0    9    2  942    0    1    0]\n",
      " [   0   11    5    2    0    0    0 1008    0    2]\n",
      " [   0    0    1    4    0    4    4    4  957    0]\n",
      " [   0    4    0    0    4    4    0    9   13  975]]\n"
     ]
    },
    {
     "data": {
      "image/png": "[encoded data removed]",
      "text/plain": [
       "<Figure size 432x288 with 2 Axes>"
      ]
     },
     "metadata": {
      "needs_background": "light"
     },
     "output_type": "display_data"
    }
   ],
   "source": [
    "compile_model(lstm_model)"
   ]
  }
 ],
 "metadata": {
  "kernelspec": {
   "display_name": "Python 3",
   "language": "python",
   "name": "python3"
  },
  "language_info": {
   "codemirror_mode": {
    "name": "ipython",
    "version": 3
   },
   "file_extension": ".py",
   "mimetype": "text/x-python",
   "name": "python",
   "nbconvert_exporter": "python",
   "pygments_lexer": "ipython3",
   "version": "3.8.1"
  }
 },
 "nbformat": 4,
 "nbformat_minor": 4
}
